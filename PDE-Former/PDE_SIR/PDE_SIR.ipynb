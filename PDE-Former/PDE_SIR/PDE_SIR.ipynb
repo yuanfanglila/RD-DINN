{
 "cells": [
  {
   "cell_type": "code",
   "execution_count": 1,
   "metadata": {},
   "outputs": [],
   "source": [
    "import numpy as np\n",
    "import torch\n",
    "import torch.nn as nn\n",
    "import matplotlib.pyplot as plt\n",
    "import random\n",
    "from torch.optim import LBFGS\n",
    "from tqdm import tqdm\n",
    "import scipy.io as io\n",
    "import scipy\n",
    "import sys\n",
    "sys.path.insert(0, '../../')\n",
    "from util import *\n",
    "from model.pinn import PINNs\n",
    "from model.pinnsformer import PINNsformer"
   ]
  },
  {
   "cell_type": "code",
   "execution_count": 2,
   "metadata": {},
   "outputs": [],
   "source": [
    "seed = 11\n",
    "np.random.seed(seed)\n",
    "random.seed(seed)\n",
    "torch.manual_seed(seed)\n",
    "torch.cuda.manual_seed(seed)\n",
    "\n",
    "device = 'cuda:0'"
   ]
  },
  {
   "cell_type": "code",
   "execution_count": 3,
   "metadata": {},
   "outputs": [],
   "source": [
    "# Train PINNsformer\n",
    "res, b_left, b_right, b_upper, b_lower = get_data([0,1], [0,30], 50, 128)\n",
    "res_test, _, _, _, _ = get_data([0,1], [0,30], 50, 128)\n",
    "num_step=3\n",
    "step=1e-1\n",
    "res = make_time_sequence(res, num_step=num_step, step=step)\n",
    "b_left = make_time_sequence(b_left, num_step=num_step, step=step)\n",
    "b_right = make_time_sequence(b_right, num_step=num_step, step=step)\n",
    "b_upper = make_time_sequence(b_upper, num_step=num_step, step=step)\n",
    "b_lower = make_time_sequence(b_lower, num_step=num_step, step=step)\n",
    "\n",
    "res = torch.tensor(res, dtype=torch.float32, requires_grad=True).to(device)\n",
    "b_left = torch.tensor(b_left, dtype=torch.float32, requires_grad=True).to(device)\n",
    "b_right = torch.tensor(b_right, dtype=torch.float32, requires_grad=True).to(device)\n",
    "b_upper = torch.tensor(b_upper, dtype=torch.float32, requires_grad=True).to(device)\n",
    "b_lower = torch.tensor(b_lower, dtype=torch.float32, requires_grad=True).to(device)\n",
    "\n",
    "x_res, t_res = res[:,:,0:1], res[:,:,1:2]\n",
    "x_left, t_left = b_left[:,:,0:1], b_left[:,:,1:2]\n",
    "x_right, t_right = b_right[:,:,0:1], b_right[:,:,1:2]\n",
    "x_upper, t_upper = b_upper[:,:,0:1], b_upper[:,:,1:2]\n",
    "x_lower, t_lower = b_lower[:,:,0:1], b_lower[:,:,1:2]\n",
    "\n",
    "def init_weights(m):\n",
    "    if isinstance(m, nn.Linear):\n",
    "        torch.nn.init.xavier_uniform(m.weight)\n",
    "        m.bias.data.fill_(0.01)"
   ]
  },
  {
   "cell_type": "code",
   "execution_count": 4,
   "metadata": {
    "scrolled": true
   },
   "outputs": [
    {
     "name": "stderr",
     "output_type": "stream",
     "text": [
      "C:\\Windows\\Temp\\ipykernel_90288\\4265907048.py:26: FutureWarning: `nn.init.xavier_uniform` is now deprecated in favor of `nn.init.xavier_uniform_`.\n",
      "  torch.nn.init.xavier_uniform(m.weight)\n"
     ]
    }
   ],
   "source": [
    "model = PINNsformer(d_out=2, d_hidden=512, d_model=32, N=1, heads=1).to(device)\n",
    "\n",
    "model.apply(init_weights)\n",
    "optim = LBFGS(model.parameters(), line_search_fn='strong_wolfe')"
   ]
  },
  {
   "cell_type": "code",
   "execution_count": 5,
   "metadata": {
    "collapsed": false,
    "jupyter": {
     "outputs_hidden": false
    },
    "pycharm": {
     "name": "#%%\n"
    }
   },
   "outputs": [],
   "source": [
    "def model_SIR(x, t):\n",
    "    SIR = model(x, t)\n",
    "    S = SIR[:,:, 0]\n",
    "    I = SIR[:,:, 1]\n",
    "    S = S.unsqueeze(-1)\n",
    "    I = I.unsqueeze(-1)\n",
    "    return S, I"
   ]
  },
  {
   "cell_type": "code",
   "execution_count": 6,
   "metadata": {
    "scrolled": true
   },
   "outputs": [
    {
     "name": "stderr",
     "output_type": "stream",
     "text": [
      "  0%|                                                                                           | 0/20 [00:00<?, ?it/s]"
     ]
    },
    {
     "name": "stdout",
     "output_type": "stream",
     "text": [
      "Iteration 1: Total Loss: 0.8346, Loss Res: 0.1456, Loss_BC: 0.0783, Loss_IC: 0.6107\n",
      "Iteration 1: Total Loss: 0.7584, Loss Res: 0.1444, Loss_BC: 0.0773, Loss_IC: 0.5367\n",
      "Iteration 1: Total Loss: 0.3009, Loss Res: 0.1355, Loss_BC: 0.0703, Loss_IC: 0.0951\n",
      "Iteration 1: Total Loss: 0.2084, Loss Res: 0.1126, Loss_BC: 0.0623, Loss_IC: 0.0335\n",
      "Iteration 1: Total Loss: 0.1866, Loss Res: 0.0968, Loss_BC: 0.0561, Loss_IC: 0.0337\n",
      "Iteration 1: Total Loss: 0.1009, Loss Res: 0.0204, Loss_BC: 0.0195, Loss_IC: 0.0610\n",
      "Iteration 1: Total Loss: 0.0854, Loss Res: 0.0159, Loss_BC: 0.0185, Loss_IC: 0.0510\n",
      "Iteration 1: Total Loss: 0.0604, Loss Res: 0.0137, Loss_BC: 0.0153, Loss_IC: 0.0313\n",
      "Iteration 1: Total Loss: 0.0580, Loss Res: 0.0129, Loss_BC: 0.0139, Loss_IC: 0.0312\n",
      "Iteration 1: Total Loss: 0.0519, Loss Res: 0.0103, Loss_BC: 0.0098, Loss_IC: 0.0317\n",
      "Iteration 1: Total Loss: 0.0465, Loss Res: 0.0082, Loss_BC: 0.0067, Loss_IC: 0.0315\n",
      "Iteration 1: Total Loss: 0.0406, Loss Res: 0.0059, Loss_BC: 0.0037, Loss_IC: 0.0309\n",
      "Iteration 1: Total Loss: 0.0384, Loss Res: 0.0046, Loss_BC: 0.0030, Loss_IC: 0.0308\n",
      "Iteration 1: Total Loss: 0.0373, Loss Res: 0.0039, Loss_BC: 0.0027, Loss_IC: 0.0307\n",
      "Iteration 1: Total Loss: 0.0349, Loss Res: 0.0023, Loss_BC: 0.0021, Loss_IC: 0.0305\n",
      "Iteration 1: Total Loss: 0.0337, Loss Res: 0.0015, Loss_BC: 0.0018, Loss_IC: 0.0304\n",
      "Iteration 1: Total Loss: 0.0332, Loss Res: 0.0014, Loss_BC: 0.0017, Loss_IC: 0.0301\n",
      "Iteration 1: Total Loss: 0.0329, Loss Res: 0.0013, Loss_BC: 0.0016, Loss_IC: 0.0300\n",
      "Iteration 1: Total Loss: 0.0326, Loss Res: 0.0012, Loss_BC: 0.0015, Loss_IC: 0.0299\n",
      "Iteration 1: Total Loss: 0.0318, Loss Res: 0.0008, Loss_BC: 0.0013, Loss_IC: 0.0296\n",
      "Iteration 1: Total Loss: 0.0311, Loss Res: 0.0005, Loss_BC: 0.0012, Loss_IC: 0.0294\n"
     ]
    },
    {
     "name": "stderr",
     "output_type": "stream",
     "text": [
      "  5%|████▏                                                                              | 1/20 [01:04<20:19, 64.18s/it]"
     ]
    },
    {
     "name": "stdout",
     "output_type": "stream",
     "text": [
      "Iteration 1: Total Loss: 0.0307, Loss Res: 0.0005, Loss_BC: 0.0012, Loss_IC: 0.0291\n",
      "Iteration 2: Total Loss: 0.0307, Loss Res: 0.0005, Loss_BC: 0.0012, Loss_IC: 0.0291\n",
      "Iteration 2: Total Loss: 0.0305, Loss Res: 0.0005, Loss_BC: 0.0011, Loss_IC: 0.0289\n",
      "Iteration 2: Total Loss: 0.0303, Loss Res: 0.0005, Loss_BC: 0.0011, Loss_IC: 0.0287\n",
      "Iteration 2: Total Loss: 0.0301, Loss Res: 0.0005, Loss_BC: 0.0011, Loss_IC: 0.0285\n",
      "Iteration 2: Total Loss: 0.0298, Loss Res: 0.0005, Loss_BC: 0.0012, Loss_IC: 0.0281\n",
      "Iteration 2: Total Loss: 0.0296, Loss Res: 0.0005, Loss_BC: 0.0012, Loss_IC: 0.0278\n",
      "Iteration 2: Total Loss: 0.0294, Loss Res: 0.0006, Loss_BC: 0.0013, Loss_IC: 0.0275\n",
      "Iteration 2: Total Loss: 0.0292, Loss Res: 0.0005, Loss_BC: 0.0014, Loss_IC: 0.0273\n",
      "Iteration 2: Total Loss: 0.0287, Loss Res: 0.0005, Loss_BC: 0.0016, Loss_IC: 0.0266\n",
      "Iteration 2: Total Loss: 0.0284, Loss Res: 0.0005, Loss_BC: 0.0019, Loss_IC: 0.0259\n",
      "Iteration 2: Total Loss: 0.0282, Loss Res: 0.0006, Loss_BC: 0.0021, Loss_IC: 0.0254\n",
      "Iteration 2: Total Loss: 0.0280, Loss Res: 0.0006, Loss_BC: 0.0024, Loss_IC: 0.0250\n",
      "Iteration 2: Total Loss: 0.0278, Loss Res: 0.0007, Loss_BC: 0.0026, Loss_IC: 0.0246\n",
      "Iteration 2: Total Loss: 0.0276, Loss Res: 0.0007, Loss_BC: 0.0029, Loss_IC: 0.0241\n",
      "Iteration 2: Total Loss: 0.0274, Loss Res: 0.0007, Loss_BC: 0.0031, Loss_IC: 0.0237\n",
      "Iteration 2: Total Loss: 0.0272, Loss Res: 0.0007, Loss_BC: 0.0032, Loss_IC: 0.0234\n",
      "Iteration 2: Total Loss: 0.0271, Loss Res: 0.0007, Loss_BC: 0.0032, Loss_IC: 0.0232\n",
      "Iteration 2: Total Loss: 0.0268, Loss Res: 0.0007, Loss_BC: 0.0035, Loss_IC: 0.0226\n",
      "Iteration 2: Total Loss: 0.0266, Loss Res: 0.0008, Loss_BC: 0.0037, Loss_IC: 0.0221\n",
      "Iteration 2: Total Loss: 0.0264, Loss Res: 0.0009, Loss_BC: 0.0042, Loss_IC: 0.0213\n"
     ]
    },
    {
     "name": "stderr",
     "output_type": "stream",
     "text": [
      " 10%|████████▎                                                                          | 2/20 [02:08<19:19, 64.41s/it]"
     ]
    },
    {
     "name": "stdout",
     "output_type": "stream",
     "text": [
      "Iteration 2: Total Loss: 0.0263, Loss Res: 0.0009, Loss_BC: 0.0043, Loss_IC: 0.0211\n",
      "Iteration 3: Total Loss: 0.0263, Loss Res: 0.0009, Loss_BC: 0.0043, Loss_IC: 0.0211\n",
      "Iteration 3: Total Loss: 0.0262, Loss Res: 0.0008, Loss_BC: 0.0044, Loss_IC: 0.0209\n",
      "Iteration 3: Total Loss: 0.0260, Loss Res: 0.0008, Loss_BC: 0.0046, Loss_IC: 0.0206\n",
      "Iteration 3: Total Loss: 0.0257, Loss Res: 0.0009, Loss_BC: 0.0052, Loss_IC: 0.0196\n",
      "Iteration 3: Total Loss: 0.0254, Loss Res: 0.0009, Loss_BC: 0.0052, Loss_IC: 0.0193\n",
      "Iteration 3: Total Loss: 0.0252, Loss Res: 0.0009, Loss_BC: 0.0056, Loss_IC: 0.0187\n",
      "Iteration 3: Total Loss: 0.0250, Loss Res: 0.0009, Loss_BC: 0.0055, Loss_IC: 0.0186\n",
      "Iteration 3: Total Loss: 0.0248, Loss Res: 0.0009, Loss_BC: 0.0056, Loss_IC: 0.0182\n",
      "Iteration 3: Total Loss: 0.0243, Loss Res: 0.0010, Loss_BC: 0.0057, Loss_IC: 0.0176\n",
      "Iteration 3: Total Loss: 0.0240, Loss Res: 0.0013, Loss_BC: 0.0062, Loss_IC: 0.0165\n",
      "Iteration 3: Total Loss: 0.0235, Loss Res: 0.0014, Loss_BC: 0.0061, Loss_IC: 0.0159\n",
      "Iteration 3: Total Loss: 0.0232, Loss Res: 0.0014, Loss_BC: 0.0061, Loss_IC: 0.0156\n",
      "Iteration 3: Total Loss: 0.0228, Loss Res: 0.0019, Loss_BC: 0.0065, Loss_IC: 0.0144\n",
      "Iteration 3: Total Loss: 0.0221, Loss Res: 0.0017, Loss_BC: 0.0057, Loss_IC: 0.0148\n",
      "Iteration 3: Total Loss: 0.0218, Loss Res: 0.0015, Loss_BC: 0.0058, Loss_IC: 0.0145\n",
      "Iteration 3: Total Loss: 0.0214, Loss Res: 0.0016, Loss_BC: 0.0055, Loss_IC: 0.0143\n",
      "Iteration 3: Total Loss: 0.0210, Loss Res: 0.0018, Loss_BC: 0.0052, Loss_IC: 0.0141\n",
      "Iteration 3: Total Loss: 0.0206, Loss Res: 0.0018, Loss_BC: 0.0052, Loss_IC: 0.0136\n",
      "Iteration 3: Total Loss: 0.0198, Loss Res: 0.0023, Loss_BC: 0.0057, Loss_IC: 0.0117\n",
      "Iteration 3: Total Loss: 0.0190, Loss Res: 0.0027, Loss_BC: 0.0062, Loss_IC: 0.0101\n"
     ]
    },
    {
     "name": "stderr",
     "output_type": "stream",
     "text": [
      " 15%|████████████▍                                                                      | 3/20 [03:16<18:44, 66.14s/it]"
     ]
    },
    {
     "name": "stdout",
     "output_type": "stream",
     "text": [
      "Iteration 3: Total Loss: 0.0183, Loss Res: 0.0032, Loss_BC: 0.0060, Loss_IC: 0.0091\n",
      "Iteration 4: Total Loss: 0.0183, Loss Res: 0.0032, Loss_BC: 0.0060, Loss_IC: 0.0091\n",
      "Iteration 4: Total Loss: 0.0171, Loss Res: 0.0039, Loss_BC: 0.0064, Loss_IC: 0.0068\n",
      "Iteration 4: Total Loss: 0.0164, Loss Res: 0.0041, Loss_BC: 0.0066, Loss_IC: 0.0058\n",
      "Iteration 4: Total Loss: 0.0153, Loss Res: 0.0030, Loss_BC: 0.0055, Loss_IC: 0.0067\n",
      "Iteration 4: Total Loss: 0.0140, Loss Res: 0.0032, Loss_BC: 0.0050, Loss_IC: 0.0059\n",
      "Iteration 4: Total Loss: 0.0129, Loss Res: 0.0033, Loss_BC: 0.0050, Loss_IC: 0.0046\n",
      "Iteration 4: Total Loss: 0.0123, Loss Res: 0.0033, Loss_BC: 0.0041, Loss_IC: 0.0049\n",
      "Iteration 4: Total Loss: 0.0120, Loss Res: 0.0026, Loss_BC: 0.0039, Loss_IC: 0.0055\n",
      "Iteration 4: Total Loss: 0.0118, Loss Res: 0.0026, Loss_BC: 0.0030, Loss_IC: 0.0061\n",
      "Iteration 4: Total Loss: 0.0111, Loss Res: 0.0028, Loss_BC: 0.0036, Loss_IC: 0.0048\n",
      "Iteration 4: Total Loss: 0.0109, Loss Res: 0.0028, Loss_BC: 0.0035, Loss_IC: 0.0047\n",
      "Iteration 4: Total Loss: 0.0106, Loss Res: 0.0027, Loss_BC: 0.0033, Loss_IC: 0.0046\n",
      "Iteration 4: Total Loss: 0.0100, Loss Res: 0.0028, Loss_BC: 0.0028, Loss_IC: 0.0044\n",
      "Iteration 4: Total Loss: 0.0093, Loss Res: 0.0028, Loss_BC: 0.0028, Loss_IC: 0.0037\n",
      "Iteration 4: Total Loss: 0.0087, Loss Res: 0.0030, Loss_BC: 0.0027, Loss_IC: 0.0030\n",
      "Iteration 4: Total Loss: 0.0080, Loss Res: 0.0032, Loss_BC: 0.0024, Loss_IC: 0.0024\n",
      "Iteration 4: Total Loss: 0.0077, Loss Res: 0.0032, Loss_BC: 0.0022, Loss_IC: 0.0023\n",
      "Iteration 4: Total Loss: 0.0074, Loss Res: 0.0031, Loss_BC: 0.0021, Loss_IC: 0.0023\n",
      "Iteration 4: Total Loss: 0.0071, Loss Res: 0.0029, Loss_BC: 0.0020, Loss_IC: 0.0022\n",
      "Iteration 4: Total Loss: 0.0067, Loss Res: 0.0028, Loss_BC: 0.0019, Loss_IC: 0.0021\n"
     ]
    },
    {
     "name": "stderr",
     "output_type": "stream",
     "text": [
      " 20%|████████████████▌                                                                  | 4/20 [04:27<18:08, 68.00s/it]"
     ]
    },
    {
     "name": "stdout",
     "output_type": "stream",
     "text": [
      "Iteration 4: Total Loss: 0.0062, Loss Res: 0.0028, Loss_BC: 0.0017, Loss_IC: 0.0017\n",
      "Iteration 5: Total Loss: 0.0062, Loss Res: 0.0028, Loss_BC: 0.0017, Loss_IC: 0.0017\n",
      "Iteration 5: Total Loss: 0.0058, Loss Res: 0.0028, Loss_BC: 0.0015, Loss_IC: 0.0015\n",
      "Iteration 5: Total Loss: 0.0055, Loss Res: 0.0028, Loss_BC: 0.0013, Loss_IC: 0.0014\n",
      "Iteration 5: Total Loss: 0.0053, Loss Res: 0.0027, Loss_BC: 0.0012, Loss_IC: 0.0014\n",
      "Iteration 5: Total Loss: 0.0051, Loss Res: 0.0025, Loss_BC: 0.0011, Loss_IC: 0.0015\n",
      "Iteration 5: Total Loss: 0.0049, Loss Res: 0.0025, Loss_BC: 0.0011, Loss_IC: 0.0014\n",
      "Iteration 5: Total Loss: 0.0046, Loss Res: 0.0022, Loss_BC: 0.0009, Loss_IC: 0.0014\n",
      "Iteration 5: Total Loss: 0.0044, Loss Res: 0.0022, Loss_BC: 0.0010, Loss_IC: 0.0013\n",
      "Iteration 5: Total Loss: 0.0043, Loss Res: 0.0021, Loss_BC: 0.0009, Loss_IC: 0.0013\n",
      "Iteration 5: Total Loss: 0.0041, Loss Res: 0.0021, Loss_BC: 0.0008, Loss_IC: 0.0012\n",
      "Iteration 5: Total Loss: 0.0039, Loss Res: 0.0020, Loss_BC: 0.0008, Loss_IC: 0.0011\n",
      "Iteration 5: Total Loss: 0.0038, Loss Res: 0.0019, Loss_BC: 0.0008, Loss_IC: 0.0011\n",
      "Iteration 5: Total Loss: 0.0036, Loss Res: 0.0018, Loss_BC: 0.0008, Loss_IC: 0.0011\n",
      "Iteration 5: Total Loss: 0.0035, Loss Res: 0.0017, Loss_BC: 0.0007, Loss_IC: 0.0011\n",
      "Iteration 5: Total Loss: 0.0033, Loss Res: 0.0016, Loss_BC: 0.0007, Loss_IC: 0.0010\n",
      "Iteration 5: Total Loss: 0.0032, Loss Res: 0.0015, Loss_BC: 0.0006, Loss_IC: 0.0010\n",
      "Iteration 5: Total Loss: 0.0030, Loss Res: 0.0015, Loss_BC: 0.0006, Loss_IC: 0.0009\n",
      "Iteration 5: Total Loss: 0.0028, Loss Res: 0.0013, Loss_BC: 0.0005, Loss_IC: 0.0009\n",
      "Iteration 5: Total Loss: 0.0026, Loss Res: 0.0012, Loss_BC: 0.0006, Loss_IC: 0.0008\n",
      "Iteration 5: Total Loss: 0.0026, Loss Res: 0.0012, Loss_BC: 0.0006, Loss_IC: 0.0008\n"
     ]
    },
    {
     "name": "stderr",
     "output_type": "stream",
     "text": [
      " 25%|████████████████████▊                                                              | 5/20 [05:40<17:25, 69.70s/it]"
     ]
    },
    {
     "name": "stdout",
     "output_type": "stream",
     "text": [
      "Iteration 5: Total Loss: 0.0025, Loss Res: 0.0011, Loss_BC: 0.0005, Loss_IC: 0.0008\n",
      "Iteration 6: Total Loss: 0.0025, Loss Res: 0.0011, Loss_BC: 0.0005, Loss_IC: 0.0008\n",
      "Iteration 6: Total Loss: 0.0023, Loss Res: 0.0011, Loss_BC: 0.0005, Loss_IC: 0.0008\n",
      "Iteration 6: Total Loss: 0.0023, Loss Res: 0.0010, Loss_BC: 0.0004, Loss_IC: 0.0008\n",
      "Iteration 6: Total Loss: 0.0022, Loss Res: 0.0009, Loss_BC: 0.0005, Loss_IC: 0.0008\n",
      "Iteration 6: Total Loss: 0.0022, Loss Res: 0.0009, Loss_BC: 0.0005, Loss_IC: 0.0007\n",
      "Iteration 6: Total Loss: 0.0021, Loss Res: 0.0009, Loss_BC: 0.0005, Loss_IC: 0.0008\n",
      "Iteration 6: Total Loss: 0.0021, Loss Res: 0.0009, Loss_BC: 0.0004, Loss_IC: 0.0008\n",
      "Iteration 6: Total Loss: 0.0021, Loss Res: 0.0009, Loss_BC: 0.0004, Loss_IC: 0.0007\n",
      "Iteration 6: Total Loss: 0.0020, Loss Res: 0.0008, Loss_BC: 0.0004, Loss_IC: 0.0007\n",
      "Iteration 6: Total Loss: 0.0019, Loss Res: 0.0008, Loss_BC: 0.0004, Loss_IC: 0.0007\n",
      "Iteration 6: Total Loss: 0.0018, Loss Res: 0.0007, Loss_BC: 0.0004, Loss_IC: 0.0007\n",
      "Iteration 6: Total Loss: 0.0018, Loss Res: 0.0007, Loss_BC: 0.0004, Loss_IC: 0.0007\n",
      "Iteration 6: Total Loss: 0.0017, Loss Res: 0.0007, Loss_BC: 0.0003, Loss_IC: 0.0007\n",
      "Iteration 6: Total Loss: 0.0017, Loss Res: 0.0007, Loss_BC: 0.0003, Loss_IC: 0.0007\n",
      "Iteration 6: Total Loss: 0.0016, Loss Res: 0.0006, Loss_BC: 0.0003, Loss_IC: 0.0007\n",
      "Iteration 6: Total Loss: 0.0016, Loss Res: 0.0006, Loss_BC: 0.0003, Loss_IC: 0.0007\n",
      "Iteration 6: Total Loss: 0.0016, Loss Res: 0.0006, Loss_BC: 0.0003, Loss_IC: 0.0007\n",
      "Iteration 6: Total Loss: 0.0015, Loss Res: 0.0006, Loss_BC: 0.0003, Loss_IC: 0.0007\n",
      "Iteration 6: Total Loss: 0.0015, Loss Res: 0.0006, Loss_BC: 0.0003, Loss_IC: 0.0007\n",
      "Iteration 6: Total Loss: 0.0015, Loss Res: 0.0005, Loss_BC: 0.0003, Loss_IC: 0.0006\n"
     ]
    },
    {
     "name": "stderr",
     "output_type": "stream",
     "text": [
      " 30%|████████████████████████▉                                                          | 6/20 [06:55<16:43, 71.66s/it]"
     ]
    },
    {
     "name": "stdout",
     "output_type": "stream",
     "text": [
      "Iteration 6: Total Loss: 0.0014, Loss Res: 0.0005, Loss_BC: 0.0003, Loss_IC: 0.0006\n",
      "Iteration 7: Total Loss: 0.0014, Loss Res: 0.0005, Loss_BC: 0.0003, Loss_IC: 0.0006\n",
      "Iteration 7: Total Loss: 0.0014, Loss Res: 0.0005, Loss_BC: 0.0002, Loss_IC: 0.0006\n",
      "Iteration 7: Total Loss: 0.0013, Loss Res: 0.0005, Loss_BC: 0.0002, Loss_IC: 0.0006\n",
      "Iteration 7: Total Loss: 0.0013, Loss Res: 0.0005, Loss_BC: 0.0002, Loss_IC: 0.0006\n",
      "Iteration 7: Total Loss: 0.0013, Loss Res: 0.0004, Loss_BC: 0.0002, Loss_IC: 0.0006\n",
      "Iteration 7: Total Loss: 0.0012, Loss Res: 0.0004, Loss_BC: 0.0002, Loss_IC: 0.0006\n",
      "Iteration 7: Total Loss: 0.0012, Loss Res: 0.0004, Loss_BC: 0.0002, Loss_IC: 0.0006\n",
      "Iteration 7: Total Loss: 0.0012, Loss Res: 0.0004, Loss_BC: 0.0002, Loss_IC: 0.0006\n",
      "Iteration 7: Total Loss: 0.0012, Loss Res: 0.0004, Loss_BC: 0.0002, Loss_IC: 0.0006\n",
      "Iteration 7: Total Loss: 0.0011, Loss Res: 0.0004, Loss_BC: 0.0002, Loss_IC: 0.0006\n",
      "Iteration 7: Total Loss: 0.0011, Loss Res: 0.0004, Loss_BC: 0.0002, Loss_IC: 0.0006\n",
      "Iteration 7: Total Loss: 0.0011, Loss Res: 0.0004, Loss_BC: 0.0002, Loss_IC: 0.0006\n",
      "Iteration 7: Total Loss: 0.0011, Loss Res: 0.0004, Loss_BC: 0.0002, Loss_IC: 0.0006\n",
      "Iteration 7: Total Loss: 0.0011, Loss Res: 0.0004, Loss_BC: 0.0001, Loss_IC: 0.0006\n",
      "Iteration 7: Total Loss: 0.0011, Loss Res: 0.0003, Loss_BC: 0.0001, Loss_IC: 0.0006\n",
      "Iteration 7: Total Loss: 0.0011, Loss Res: 0.0003, Loss_BC: 0.0001, Loss_IC: 0.0006\n",
      "Iteration 7: Total Loss: 0.0010, Loss Res: 0.0003, Loss_BC: 0.0001, Loss_IC: 0.0006\n",
      "Iteration 7: Total Loss: 0.0010, Loss Res: 0.0003, Loss_BC: 0.0001, Loss_IC: 0.0006\n",
      "Iteration 7: Total Loss: 0.0010, Loss Res: 0.0003, Loss_BC: 0.0001, Loss_IC: 0.0006\n",
      "Iteration 7: Total Loss: 0.0010, Loss Res: 0.0003, Loss_BC: 0.0001, Loss_IC: 0.0006\n"
     ]
    },
    {
     "name": "stderr",
     "output_type": "stream",
     "text": [
      " 35%|█████████████████████████████                                                      | 7/20 [08:11<15:45, 72.77s/it]"
     ]
    },
    {
     "name": "stdout",
     "output_type": "stream",
     "text": [
      "Iteration 7: Total Loss: 0.0010, Loss Res: 0.0003, Loss_BC: 0.0001, Loss_IC: 0.0006\n",
      "Iteration 8: Total Loss: 0.0010, Loss Res: 0.0003, Loss_BC: 0.0001, Loss_IC: 0.0006\n",
      "Iteration 8: Total Loss: 0.0010, Loss Res: 0.0003, Loss_BC: 0.0001, Loss_IC: 0.0006\n",
      "Iteration 8: Total Loss: 0.0009, Loss Res: 0.0003, Loss_BC: 0.0001, Loss_IC: 0.0006\n",
      "Iteration 8: Total Loss: 0.0009, Loss Res: 0.0003, Loss_BC: 0.0001, Loss_IC: 0.0006\n",
      "Iteration 8: Total Loss: 0.0009, Loss Res: 0.0003, Loss_BC: 0.0001, Loss_IC: 0.0006\n",
      "Iteration 8: Total Loss: 0.0009, Loss Res: 0.0003, Loss_BC: 0.0001, Loss_IC: 0.0006\n",
      "Iteration 8: Total Loss: 0.0009, Loss Res: 0.0003, Loss_BC: 0.0001, Loss_IC: 0.0005\n",
      "Iteration 8: Total Loss: 0.0009, Loss Res: 0.0002, Loss_BC: 0.0001, Loss_IC: 0.0005\n",
      "Iteration 8: Total Loss: 0.0009, Loss Res: 0.0002, Loss_BC: 0.0001, Loss_IC: 0.0005\n",
      "Iteration 8: Total Loss: 0.0009, Loss Res: 0.0002, Loss_BC: 0.0001, Loss_IC: 0.0005\n",
      "Iteration 8: Total Loss: 0.0009, Loss Res: 0.0002, Loss_BC: 0.0001, Loss_IC: 0.0005\n",
      "Iteration 8: Total Loss: 0.0009, Loss Res: 0.0002, Loss_BC: 0.0001, Loss_IC: 0.0005\n",
      "Iteration 8: Total Loss: 0.0008, Loss Res: 0.0002, Loss_BC: 0.0001, Loss_IC: 0.0005\n",
      "Iteration 8: Total Loss: 0.0008, Loss Res: 0.0002, Loss_BC: 0.0001, Loss_IC: 0.0005\n",
      "Iteration 8: Total Loss: 0.0008, Loss Res: 0.0002, Loss_BC: 0.0001, Loss_IC: 0.0005\n",
      "Iteration 8: Total Loss: 0.0008, Loss Res: 0.0002, Loss_BC: 0.0001, Loss_IC: 0.0005\n",
      "Iteration 8: Total Loss: 0.0008, Loss Res: 0.0002, Loss_BC: 0.0001, Loss_IC: 0.0005\n",
      "Iteration 8: Total Loss: 0.0008, Loss Res: 0.0002, Loss_BC: 0.0001, Loss_IC: 0.0005\n",
      "Iteration 8: Total Loss: 0.0008, Loss Res: 0.0002, Loss_BC: 0.0001, Loss_IC: 0.0005\n",
      "Iteration 8: Total Loss: 0.0008, Loss Res: 0.0002, Loss_BC: 0.0001, Loss_IC: 0.0005\n"
     ]
    },
    {
     "name": "stderr",
     "output_type": "stream",
     "text": [
      " 40%|█████████████████████████████████▏                                                 | 8/20 [09:26<14:43, 73.61s/it]"
     ]
    },
    {
     "name": "stdout",
     "output_type": "stream",
     "text": [
      "Iteration 8: Total Loss: 0.0008, Loss Res: 0.0002, Loss_BC: 0.0001, Loss_IC: 0.0005\n",
      "Iteration 9: Total Loss: 0.0008, Loss Res: 0.0002, Loss_BC: 0.0001, Loss_IC: 0.0005\n",
      "Iteration 9: Total Loss: 0.0008, Loss Res: 0.0002, Loss_BC: 0.0001, Loss_IC: 0.0005\n",
      "Iteration 9: Total Loss: 0.0008, Loss Res: 0.0002, Loss_BC: 0.0001, Loss_IC: 0.0005\n",
      "Iteration 9: Total Loss: 0.0008, Loss Res: 0.0002, Loss_BC: 0.0001, Loss_IC: 0.0005\n",
      "Iteration 9: Total Loss: 0.0008, Loss Res: 0.0002, Loss_BC: 0.0001, Loss_IC: 0.0005\n",
      "Iteration 9: Total Loss: 0.0008, Loss Res: 0.0002, Loss_BC: 0.0001, Loss_IC: 0.0005\n",
      "Iteration 9: Total Loss: 0.0008, Loss Res: 0.0002, Loss_BC: 0.0001, Loss_IC: 0.0005\n",
      "Iteration 9: Total Loss: 0.0008, Loss Res: 0.0002, Loss_BC: 0.0001, Loss_IC: 0.0005\n",
      "Iteration 9: Total Loss: 0.0007, Loss Res: 0.0002, Loss_BC: 0.0001, Loss_IC: 0.0005\n",
      "Iteration 9: Total Loss: 0.0007, Loss Res: 0.0002, Loss_BC: 0.0001, Loss_IC: 0.0005\n",
      "Iteration 9: Total Loss: 0.0007, Loss Res: 0.0002, Loss_BC: 0.0001, Loss_IC: 0.0005\n",
      "Iteration 9: Total Loss: 0.0007, Loss Res: 0.0002, Loss_BC: 0.0001, Loss_IC: 0.0005\n",
      "Iteration 9: Total Loss: 0.0007, Loss Res: 0.0002, Loss_BC: 0.0001, Loss_IC: 0.0005\n",
      "Iteration 9: Total Loss: 0.0007, Loss Res: 0.0002, Loss_BC: 0.0001, Loss_IC: 0.0005\n",
      "Iteration 9: Total Loss: 0.0007, Loss Res: 0.0002, Loss_BC: 0.0001, Loss_IC: 0.0005\n",
      "Iteration 9: Total Loss: 0.0007, Loss Res: 0.0002, Loss_BC: 0.0000, Loss_IC: 0.0005\n",
      "Iteration 9: Total Loss: 0.0007, Loss Res: 0.0002, Loss_BC: 0.0000, Loss_IC: 0.0005\n",
      "Iteration 9: Total Loss: 0.0007, Loss Res: 0.0002, Loss_BC: 0.0000, Loss_IC: 0.0005\n",
      "Iteration 9: Total Loss: 0.0007, Loss Res: 0.0002, Loss_BC: 0.0000, Loss_IC: 0.0005\n",
      "Iteration 9: Total Loss: 0.0007, Loss Res: 0.0002, Loss_BC: 0.0000, Loss_IC: 0.0005\n"
     ]
    },
    {
     "name": "stderr",
     "output_type": "stream",
     "text": [
      " 45%|█████████████████████████████████████▎                                             | 9/20 [10:41<13:35, 74.14s/it]"
     ]
    },
    {
     "name": "stdout",
     "output_type": "stream",
     "text": [
      "Iteration 9: Total Loss: 0.0007, Loss Res: 0.0002, Loss_BC: 0.0000, Loss_IC: 0.0005\n",
      "Iteration 10: Total Loss: 0.0007, Loss Res: 0.0002, Loss_BC: 0.0000, Loss_IC: 0.0005\n",
      "Iteration 10: Total Loss: 0.0007, Loss Res: 0.0002, Loss_BC: 0.0000, Loss_IC: 0.0005\n",
      "Iteration 10: Total Loss: 0.0007, Loss Res: 0.0002, Loss_BC: 0.0000, Loss_IC: 0.0005\n",
      "Iteration 10: Total Loss: 0.0007, Loss Res: 0.0001, Loss_BC: 0.0000, Loss_IC: 0.0005\n",
      "Iteration 10: Total Loss: 0.0007, Loss Res: 0.0001, Loss_BC: 0.0000, Loss_IC: 0.0005\n",
      "Iteration 10: Total Loss: 0.0007, Loss Res: 0.0001, Loss_BC: 0.0000, Loss_IC: 0.0005\n",
      "Iteration 10: Total Loss: 0.0007, Loss Res: 0.0001, Loss_BC: 0.0000, Loss_IC: 0.0005\n",
      "Iteration 10: Total Loss: 0.0007, Loss Res: 0.0001, Loss_BC: 0.0000, Loss_IC: 0.0005\n",
      "Iteration 10: Total Loss: 0.0007, Loss Res: 0.0001, Loss_BC: 0.0000, Loss_IC: 0.0005\n",
      "Iteration 10: Total Loss: 0.0007, Loss Res: 0.0001, Loss_BC: 0.0000, Loss_IC: 0.0005\n",
      "Iteration 10: Total Loss: 0.0006, Loss Res: 0.0001, Loss_BC: 0.0000, Loss_IC: 0.0005\n",
      "Iteration 10: Total Loss: 0.0006, Loss Res: 0.0001, Loss_BC: 0.0000, Loss_IC: 0.0005\n",
      "Iteration 10: Total Loss: 0.0006, Loss Res: 0.0001, Loss_BC: 0.0000, Loss_IC: 0.0005\n",
      "Iteration 10: Total Loss: 0.0006, Loss Res: 0.0001, Loss_BC: 0.0000, Loss_IC: 0.0005\n",
      "Iteration 10: Total Loss: 0.0006, Loss Res: 0.0001, Loss_BC: 0.0000, Loss_IC: 0.0005\n",
      "Iteration 10: Total Loss: 0.0006, Loss Res: 0.0001, Loss_BC: 0.0000, Loss_IC: 0.0005\n",
      "Iteration 10: Total Loss: 0.0006, Loss Res: 0.0001, Loss_BC: 0.0000, Loss_IC: 0.0005\n",
      "Iteration 10: Total Loss: 0.0006, Loss Res: 0.0001, Loss_BC: 0.0000, Loss_IC: 0.0005\n",
      "Iteration 10: Total Loss: 0.0006, Loss Res: 0.0001, Loss_BC: 0.0000, Loss_IC: 0.0005\n",
      "Iteration 10: Total Loss: 0.0006, Loss Res: 0.0001, Loss_BC: 0.0000, Loss_IC: 0.0005\n"
     ]
    },
    {
     "name": "stderr",
     "output_type": "stream",
     "text": [
      " 50%|█████████████████████████████████████████                                         | 10/20 [11:57<12:26, 74.65s/it]"
     ]
    },
    {
     "name": "stdout",
     "output_type": "stream",
     "text": [
      "Iteration 10: Total Loss: 0.0006, Loss Res: 0.0001, Loss_BC: 0.0000, Loss_IC: 0.0005\n",
      "Iteration 11: Total Loss: 0.0006, Loss Res: 0.0001, Loss_BC: 0.0000, Loss_IC: 0.0005\n",
      "Iteration 11: Total Loss: 0.0006, Loss Res: 0.0001, Loss_BC: 0.0000, Loss_IC: 0.0005\n",
      "Iteration 11: Total Loss: 0.0006, Loss Res: 0.0001, Loss_BC: 0.0000, Loss_IC: 0.0005\n",
      "Iteration 11: Total Loss: 0.0006, Loss Res: 0.0001, Loss_BC: 0.0000, Loss_IC: 0.0005\n",
      "Iteration 11: Total Loss: 0.0006, Loss Res: 0.0001, Loss_BC: 0.0000, Loss_IC: 0.0005\n",
      "Iteration 11: Total Loss: 0.0006, Loss Res: 0.0001, Loss_BC: 0.0000, Loss_IC: 0.0005\n",
      "Iteration 11: Total Loss: 0.0006, Loss Res: 0.0001, Loss_BC: 0.0000, Loss_IC: 0.0005\n",
      "Iteration 11: Total Loss: 0.0006, Loss Res: 0.0001, Loss_BC: 0.0000, Loss_IC: 0.0005\n",
      "Iteration 11: Total Loss: 0.0006, Loss Res: 0.0001, Loss_BC: 0.0000, Loss_IC: 0.0005\n",
      "Iteration 11: Total Loss: 0.0006, Loss Res: 0.0001, Loss_BC: 0.0000, Loss_IC: 0.0005\n",
      "Iteration 11: Total Loss: 0.0006, Loss Res: 0.0001, Loss_BC: 0.0000, Loss_IC: 0.0005\n",
      "Iteration 11: Total Loss: 0.0006, Loss Res: 0.0001, Loss_BC: 0.0000, Loss_IC: 0.0005\n",
      "Iteration 11: Total Loss: 0.0006, Loss Res: 0.0001, Loss_BC: 0.0000, Loss_IC: 0.0005\n",
      "Iteration 11: Total Loss: 0.0006, Loss Res: 0.0001, Loss_BC: 0.0000, Loss_IC: 0.0005\n",
      "Iteration 11: Total Loss: 0.0006, Loss Res: 0.0001, Loss_BC: 0.0000, Loss_IC: 0.0005\n",
      "Iteration 11: Total Loss: 0.0006, Loss Res: 0.0001, Loss_BC: 0.0000, Loss_IC: 0.0005\n",
      "Iteration 11: Total Loss: 0.0006, Loss Res: 0.0001, Loss_BC: 0.0000, Loss_IC: 0.0005\n",
      "Iteration 11: Total Loss: 0.0006, Loss Res: 0.0001, Loss_BC: 0.0000, Loss_IC: 0.0005\n",
      "Iteration 11: Total Loss: 0.0006, Loss Res: 0.0001, Loss_BC: 0.0000, Loss_IC: 0.0005\n",
      "Iteration 11: Total Loss: 0.0006, Loss Res: 0.0001, Loss_BC: 0.0000, Loss_IC: 0.0005\n"
     ]
    },
    {
     "name": "stderr",
     "output_type": "stream",
     "text": [
      " 55%|█████████████████████████████████████████████                                     | 11/20 [13:13<11:15, 75.10s/it]"
     ]
    },
    {
     "name": "stdout",
     "output_type": "stream",
     "text": [
      "Iteration 11: Total Loss: 0.0006, Loss Res: 0.0001, Loss_BC: 0.0000, Loss_IC: 0.0005\n",
      "Iteration 12: Total Loss: 0.0006, Loss Res: 0.0001, Loss_BC: 0.0000, Loss_IC: 0.0005\n",
      "Iteration 12: Total Loss: 0.0006, Loss Res: 0.0001, Loss_BC: 0.0000, Loss_IC: 0.0005\n",
      "Iteration 12: Total Loss: 0.0006, Loss Res: 0.0001, Loss_BC: 0.0000, Loss_IC: 0.0005\n",
      "Iteration 12: Total Loss: 0.0006, Loss Res: 0.0001, Loss_BC: 0.0000, Loss_IC: 0.0005\n",
      "Iteration 12: Total Loss: 0.0006, Loss Res: 0.0001, Loss_BC: 0.0000, Loss_IC: 0.0005\n",
      "Iteration 12: Total Loss: 0.0006, Loss Res: 0.0001, Loss_BC: 0.0000, Loss_IC: 0.0005\n",
      "Iteration 12: Total Loss: 0.0006, Loss Res: 0.0001, Loss_BC: 0.0000, Loss_IC: 0.0005\n",
      "Iteration 12: Total Loss: 0.0006, Loss Res: 0.0001, Loss_BC: 0.0000, Loss_IC: 0.0005\n",
      "Iteration 12: Total Loss: 0.0006, Loss Res: 0.0001, Loss_BC: 0.0000, Loss_IC: 0.0005\n",
      "Iteration 12: Total Loss: 0.0006, Loss Res: 0.0001, Loss_BC: 0.0000, Loss_IC: 0.0005\n",
      "Iteration 12: Total Loss: 0.0006, Loss Res: 0.0001, Loss_BC: 0.0000, Loss_IC: 0.0005\n",
      "Iteration 12: Total Loss: 0.0006, Loss Res: 0.0001, Loss_BC: 0.0000, Loss_IC: 0.0005\n",
      "Iteration 12: Total Loss: 0.0006, Loss Res: 0.0001, Loss_BC: 0.0000, Loss_IC: 0.0005\n",
      "Iteration 12: Total Loss: 0.0006, Loss Res: 0.0001, Loss_BC: 0.0000, Loss_IC: 0.0005\n",
      "Iteration 12: Total Loss: 0.0006, Loss Res: 0.0001, Loss_BC: 0.0000, Loss_IC: 0.0005\n",
      "Iteration 12: Total Loss: 0.0006, Loss Res: 0.0001, Loss_BC: 0.0000, Loss_IC: 0.0005\n",
      "Iteration 12: Total Loss: 0.0006, Loss Res: 0.0001, Loss_BC: 0.0000, Loss_IC: 0.0005\n",
      "Iteration 12: Total Loss: 0.0006, Loss Res: 0.0001, Loss_BC: 0.0000, Loss_IC: 0.0005\n",
      "Iteration 12: Total Loss: 0.0006, Loss Res: 0.0001, Loss_BC: 0.0000, Loss_IC: 0.0005\n",
      "Iteration 12: Total Loss: 0.0006, Loss Res: 0.0001, Loss_BC: 0.0000, Loss_IC: 0.0005\n"
     ]
    },
    {
     "name": "stderr",
     "output_type": "stream",
     "text": [
      " 60%|█████████████████████████████████████████████████▏                                | 12/20 [14:29<10:01, 75.24s/it]"
     ]
    },
    {
     "name": "stdout",
     "output_type": "stream",
     "text": [
      "Iteration 12: Total Loss: 0.0006, Loss Res: 0.0001, Loss_BC: 0.0000, Loss_IC: 0.0005\n",
      "Iteration 13: Total Loss: 0.0006, Loss Res: 0.0001, Loss_BC: 0.0000, Loss_IC: 0.0005\n",
      "Iteration 13: Total Loss: 0.0006, Loss Res: 0.0001, Loss_BC: 0.0000, Loss_IC: 0.0005\n",
      "Iteration 13: Total Loss: 0.0006, Loss Res: 0.0001, Loss_BC: 0.0000, Loss_IC: 0.0005\n",
      "Iteration 13: Total Loss: 0.0006, Loss Res: 0.0001, Loss_BC: 0.0000, Loss_IC: 0.0005\n",
      "Iteration 13: Total Loss: 0.0005, Loss Res: 0.0001, Loss_BC: 0.0000, Loss_IC: 0.0005\n",
      "Iteration 13: Total Loss: 0.0005, Loss Res: 0.0001, Loss_BC: 0.0000, Loss_IC: 0.0005\n",
      "Iteration 13: Total Loss: 0.0005, Loss Res: 0.0001, Loss_BC: 0.0000, Loss_IC: 0.0004\n",
      "Iteration 13: Total Loss: 0.0005, Loss Res: 0.0001, Loss_BC: 0.0000, Loss_IC: 0.0004\n",
      "Iteration 13: Total Loss: 0.0005, Loss Res: 0.0001, Loss_BC: 0.0000, Loss_IC: 0.0004\n",
      "Iteration 13: Total Loss: 0.0005, Loss Res: 0.0001, Loss_BC: 0.0000, Loss_IC: 0.0004\n",
      "Iteration 13: Total Loss: 0.0005, Loss Res: 0.0001, Loss_BC: 0.0000, Loss_IC: 0.0004\n",
      "Iteration 13: Total Loss: 0.0005, Loss Res: 0.0001, Loss_BC: 0.0000, Loss_IC: 0.0004\n",
      "Iteration 13: Total Loss: 0.0005, Loss Res: 0.0001, Loss_BC: 0.0000, Loss_IC: 0.0004\n",
      "Iteration 13: Total Loss: 0.0005, Loss Res: 0.0001, Loss_BC: 0.0000, Loss_IC: 0.0004\n",
      "Iteration 13: Total Loss: 0.0005, Loss Res: 0.0001, Loss_BC: 0.0000, Loss_IC: 0.0004\n",
      "Iteration 13: Total Loss: 0.0005, Loss Res: 0.0001, Loss_BC: 0.0000, Loss_IC: 0.0004\n",
      "Iteration 13: Total Loss: 0.0005, Loss Res: 0.0001, Loss_BC: 0.0000, Loss_IC: 0.0004\n",
      "Iteration 13: Total Loss: 0.0005, Loss Res: 0.0001, Loss_BC: 0.0000, Loss_IC: 0.0004\n",
      "Iteration 13: Total Loss: 0.0005, Loss Res: 0.0001, Loss_BC: 0.0000, Loss_IC: 0.0004\n",
      "Iteration 13: Total Loss: 0.0005, Loss Res: 0.0001, Loss_BC: 0.0000, Loss_IC: 0.0004\n"
     ]
    },
    {
     "name": "stderr",
     "output_type": "stream",
     "text": [
      " 65%|█████████████████████████████████████████████████████▎                            | 13/20 [15:45<08:47, 75.43s/it]"
     ]
    },
    {
     "name": "stdout",
     "output_type": "stream",
     "text": [
      "Iteration 13: Total Loss: 0.0005, Loss Res: 0.0001, Loss_BC: 0.0000, Loss_IC: 0.0004\n",
      "Iteration 14: Total Loss: 0.0005, Loss Res: 0.0001, Loss_BC: 0.0000, Loss_IC: 0.0004\n",
      "Iteration 14: Total Loss: 0.0005, Loss Res: 0.0001, Loss_BC: 0.0000, Loss_IC: 0.0004\n",
      "Iteration 14: Total Loss: 0.0005, Loss Res: 0.0001, Loss_BC: 0.0000, Loss_IC: 0.0004\n",
      "Iteration 14: Total Loss: 0.0005, Loss Res: 0.0001, Loss_BC: 0.0000, Loss_IC: 0.0004\n",
      "Iteration 14: Total Loss: 0.0005, Loss Res: 0.0001, Loss_BC: 0.0000, Loss_IC: 0.0004\n",
      "Iteration 14: Total Loss: 0.0005, Loss Res: 0.0001, Loss_BC: 0.0000, Loss_IC: 0.0004\n",
      "Iteration 14: Total Loss: 0.0005, Loss Res: 0.0001, Loss_BC: 0.0000, Loss_IC: 0.0004\n",
      "Iteration 14: Total Loss: 0.0005, Loss Res: 0.0001, Loss_BC: 0.0000, Loss_IC: 0.0004\n",
      "Iteration 14: Total Loss: 0.0005, Loss Res: 0.0001, Loss_BC: 0.0000, Loss_IC: 0.0004\n",
      "Iteration 14: Total Loss: 0.0005, Loss Res: 0.0001, Loss_BC: 0.0000, Loss_IC: 0.0004\n",
      "Iteration 14: Total Loss: 0.0005, Loss Res: 0.0001, Loss_BC: 0.0000, Loss_IC: 0.0004\n",
      "Iteration 14: Total Loss: 0.0005, Loss Res: 0.0001, Loss_BC: 0.0000, Loss_IC: 0.0004\n",
      "Iteration 14: Total Loss: 0.0005, Loss Res: 0.0001, Loss_BC: 0.0000, Loss_IC: 0.0004\n",
      "Iteration 14: Total Loss: 0.0005, Loss Res: 0.0001, Loss_BC: 0.0000, Loss_IC: 0.0004\n",
      "Iteration 14: Total Loss: 0.0005, Loss Res: 0.0001, Loss_BC: 0.0000, Loss_IC: 0.0004\n",
      "Iteration 14: Total Loss: 0.0005, Loss Res: 0.0001, Loss_BC: 0.0000, Loss_IC: 0.0004\n",
      "Iteration 14: Total Loss: 0.0005, Loss Res: 0.0001, Loss_BC: 0.0000, Loss_IC: 0.0004\n",
      "Iteration 14: Total Loss: 0.0005, Loss Res: 0.0001, Loss_BC: 0.0000, Loss_IC: 0.0004\n",
      "Iteration 14: Total Loss: 0.0005, Loss Res: 0.0001, Loss_BC: 0.0000, Loss_IC: 0.0004\n",
      "Iteration 14: Total Loss: 0.0005, Loss Res: 0.0001, Loss_BC: 0.0000, Loss_IC: 0.0004\n"
     ]
    },
    {
     "name": "stderr",
     "output_type": "stream",
     "text": [
      " 70%|█████████████████████████████████████████████████████████▍                        | 14/20 [16:59<07:31, 75.26s/it]"
     ]
    },
    {
     "name": "stdout",
     "output_type": "stream",
     "text": [
      "Iteration 14: Total Loss: 0.0005, Loss Res: 0.0001, Loss_BC: 0.0000, Loss_IC: 0.0004\n",
      "Iteration 15: Total Loss: 0.0005, Loss Res: 0.0001, Loss_BC: 0.0000, Loss_IC: 0.0004\n",
      "Iteration 15: Total Loss: 0.0005, Loss Res: 0.0001, Loss_BC: 0.0000, Loss_IC: 0.0004\n",
      "Iteration 15: Total Loss: 0.0005, Loss Res: 0.0001, Loss_BC: 0.0000, Loss_IC: 0.0004\n",
      "Iteration 15: Total Loss: 0.0005, Loss Res: 0.0001, Loss_BC: 0.0000, Loss_IC: 0.0004\n",
      "Iteration 15: Total Loss: 0.0005, Loss Res: 0.0001, Loss_BC: 0.0000, Loss_IC: 0.0004\n",
      "Iteration 15: Total Loss: 0.0005, Loss Res: 0.0001, Loss_BC: 0.0000, Loss_IC: 0.0004\n",
      "Iteration 15: Total Loss: 0.0005, Loss Res: 0.0001, Loss_BC: 0.0000, Loss_IC: 0.0004\n",
      "Iteration 15: Total Loss: 0.0005, Loss Res: 0.0001, Loss_BC: 0.0000, Loss_IC: 0.0004\n",
      "Iteration 15: Total Loss: 0.0005, Loss Res: 0.0001, Loss_BC: 0.0000, Loss_IC: 0.0004\n",
      "Iteration 15: Total Loss: 0.0005, Loss Res: 0.0001, Loss_BC: 0.0000, Loss_IC: 0.0004\n",
      "Iteration 15: Total Loss: 0.0005, Loss Res: 0.0001, Loss_BC: 0.0000, Loss_IC: 0.0004\n",
      "Iteration 15: Total Loss: 0.0005, Loss Res: 0.0001, Loss_BC: 0.0000, Loss_IC: 0.0004\n",
      "Iteration 15: Total Loss: 0.0005, Loss Res: 0.0001, Loss_BC: 0.0000, Loss_IC: 0.0004\n",
      "Iteration 15: Total Loss: 0.0005, Loss Res: 0.0001, Loss_BC: 0.0000, Loss_IC: 0.0004\n",
      "Iteration 15: Total Loss: 0.0005, Loss Res: 0.0001, Loss_BC: 0.0000, Loss_IC: 0.0004\n",
      "Iteration 15: Total Loss: 0.0005, Loss Res: 0.0001, Loss_BC: 0.0000, Loss_IC: 0.0004\n",
      "Iteration 15: Total Loss: 0.0005, Loss Res: 0.0001, Loss_BC: 0.0000, Loss_IC: 0.0004\n",
      "Iteration 15: Total Loss: 0.0005, Loss Res: 0.0001, Loss_BC: 0.0000, Loss_IC: 0.0004\n",
      "Iteration 15: Total Loss: 0.0005, Loss Res: 0.0001, Loss_BC: 0.0000, Loss_IC: 0.0004\n",
      "Iteration 15: Total Loss: 0.0005, Loss Res: 0.0001, Loss_BC: 0.0000, Loss_IC: 0.0004\n"
     ]
    },
    {
     "name": "stderr",
     "output_type": "stream",
     "text": [
      " 75%|█████████████████████████████████████████████████████████████▌                    | 15/20 [18:13<06:13, 74.64s/it]"
     ]
    },
    {
     "name": "stdout",
     "output_type": "stream",
     "text": [
      "Iteration 15: Total Loss: 0.0005, Loss Res: 0.0001, Loss_BC: 0.0000, Loss_IC: 0.0004\n",
      "Iteration 16: Total Loss: 0.0005, Loss Res: 0.0001, Loss_BC: 0.0000, Loss_IC: 0.0004\n",
      "Iteration 16: Total Loss: 0.0005, Loss Res: 0.0001, Loss_BC: 0.0000, Loss_IC: 0.0004\n",
      "Iteration 16: Total Loss: 0.0005, Loss Res: 0.0001, Loss_BC: 0.0000, Loss_IC: 0.0004\n",
      "Iteration 16: Total Loss: 0.0005, Loss Res: 0.0001, Loss_BC: 0.0000, Loss_IC: 0.0004\n",
      "Iteration 16: Total Loss: 0.0005, Loss Res: 0.0001, Loss_BC: 0.0000, Loss_IC: 0.0004\n",
      "Iteration 16: Total Loss: 0.0005, Loss Res: 0.0001, Loss_BC: 0.0000, Loss_IC: 0.0004\n",
      "Iteration 16: Total Loss: 0.0005, Loss Res: 0.0001, Loss_BC: 0.0000, Loss_IC: 0.0004\n",
      "Iteration 16: Total Loss: 0.0005, Loss Res: 0.0001, Loss_BC: 0.0000, Loss_IC: 0.0004\n",
      "Iteration 16: Total Loss: 0.0005, Loss Res: 0.0001, Loss_BC: 0.0000, Loss_IC: 0.0004\n",
      "Iteration 16: Total Loss: 0.0005, Loss Res: 0.0001, Loss_BC: 0.0000, Loss_IC: 0.0004\n",
      "Iteration 16: Total Loss: 0.0005, Loss Res: 0.0001, Loss_BC: 0.0000, Loss_IC: 0.0004\n",
      "Iteration 16: Total Loss: 0.0005, Loss Res: 0.0001, Loss_BC: 0.0000, Loss_IC: 0.0004\n",
      "Iteration 16: Total Loss: 0.0005, Loss Res: 0.0001, Loss_BC: 0.0000, Loss_IC: 0.0004\n",
      "Iteration 16: Total Loss: 0.0005, Loss Res: 0.0001, Loss_BC: 0.0000, Loss_IC: 0.0004\n",
      "Iteration 16: Total Loss: 0.0005, Loss Res: 0.0001, Loss_BC: 0.0000, Loss_IC: 0.0004\n",
      "Iteration 16: Total Loss: 0.0005, Loss Res: 0.0001, Loss_BC: 0.0000, Loss_IC: 0.0004\n",
      "Iteration 16: Total Loss: 0.0005, Loss Res: 0.0001, Loss_BC: 0.0000, Loss_IC: 0.0004\n",
      "Iteration 16: Total Loss: 0.0005, Loss Res: 0.0001, Loss_BC: 0.0000, Loss_IC: 0.0004\n",
      "Iteration 16: Total Loss: 0.0005, Loss Res: 0.0001, Loss_BC: 0.0000, Loss_IC: 0.0004\n",
      "Iteration 16: Total Loss: 0.0005, Loss Res: 0.0001, Loss_BC: 0.0000, Loss_IC: 0.0004\n"
     ]
    },
    {
     "name": "stderr",
     "output_type": "stream",
     "text": [
      " 80%|█████████████████████████████████████████████████████████████████▌                | 16/20 [19:26<04:56, 74.18s/it]"
     ]
    },
    {
     "name": "stdout",
     "output_type": "stream",
     "text": [
      "Iteration 16: Total Loss: 0.0005, Loss Res: 0.0001, Loss_BC: 0.0000, Loss_IC: 0.0004\n",
      "Iteration 17: Total Loss: 0.0005, Loss Res: 0.0001, Loss_BC: 0.0000, Loss_IC: 0.0004\n",
      "Iteration 17: Total Loss: 0.0005, Loss Res: 0.0001, Loss_BC: 0.0000, Loss_IC: 0.0004\n",
      "Iteration 17: Total Loss: 0.0005, Loss Res: 0.0001, Loss_BC: 0.0000, Loss_IC: 0.0004\n",
      "Iteration 17: Total Loss: 0.0005, Loss Res: 0.0001, Loss_BC: 0.0000, Loss_IC: 0.0004\n",
      "Iteration 17: Total Loss: 0.0005, Loss Res: 0.0001, Loss_BC: 0.0000, Loss_IC: 0.0004\n",
      "Iteration 17: Total Loss: 0.0005, Loss Res: 0.0001, Loss_BC: 0.0000, Loss_IC: 0.0004\n",
      "Iteration 17: Total Loss: 0.0005, Loss Res: 0.0001, Loss_BC: 0.0000, Loss_IC: 0.0004\n",
      "Iteration 17: Total Loss: 0.0005, Loss Res: 0.0001, Loss_BC: 0.0000, Loss_IC: 0.0004\n",
      "Iteration 17: Total Loss: 0.0005, Loss Res: 0.0001, Loss_BC: 0.0000, Loss_IC: 0.0004\n",
      "Iteration 17: Total Loss: 0.0005, Loss Res: 0.0001, Loss_BC: 0.0000, Loss_IC: 0.0004\n",
      "Iteration 17: Total Loss: 0.0005, Loss Res: 0.0001, Loss_BC: 0.0000, Loss_IC: 0.0004\n",
      "Iteration 17: Total Loss: 0.0005, Loss Res: 0.0001, Loss_BC: 0.0000, Loss_IC: 0.0004\n",
      "Iteration 17: Total Loss: 0.0005, Loss Res: 0.0001, Loss_BC: 0.0000, Loss_IC: 0.0004\n",
      "Iteration 17: Total Loss: 0.0005, Loss Res: 0.0001, Loss_BC: 0.0000, Loss_IC: 0.0004\n",
      "Iteration 17: Total Loss: 0.0005, Loss Res: 0.0001, Loss_BC: 0.0000, Loss_IC: 0.0004\n",
      "Iteration 17: Total Loss: 0.0005, Loss Res: 0.0001, Loss_BC: 0.0000, Loss_IC: 0.0004\n",
      "Iteration 17: Total Loss: 0.0005, Loss Res: 0.0001, Loss_BC: 0.0000, Loss_IC: 0.0004\n",
      "Iteration 17: Total Loss: 0.0005, Loss Res: 0.0001, Loss_BC: 0.0000, Loss_IC: 0.0004\n",
      "Iteration 17: Total Loss: 0.0005, Loss Res: 0.0001, Loss_BC: 0.0000, Loss_IC: 0.0004\n",
      "Iteration 17: Total Loss: 0.0005, Loss Res: 0.0001, Loss_BC: 0.0000, Loss_IC: 0.0004\n",
      "Iteration 17: Total Loss: 0.0005, Loss Res: 0.0001, Loss_BC: 0.0000, Loss_IC: 0.0004\n"
     ]
    },
    {
     "name": "stderr",
     "output_type": "stream",
     "text": [
      " 85%|█████████████████████████████████████████████████████████████████████▋            | 17/20 [20:43<03:44, 74.95s/it]"
     ]
    },
    {
     "name": "stdout",
     "output_type": "stream",
     "text": [
      "Iteration 17: Total Loss: 0.0005, Loss Res: 0.0001, Loss_BC: 0.0000, Loss_IC: 0.0004\n",
      "Iteration 18: Total Loss: 0.0005, Loss Res: 0.0001, Loss_BC: 0.0000, Loss_IC: 0.0004\n",
      "Iteration 18: Total Loss: 0.0005, Loss Res: 0.0001, Loss_BC: 0.0000, Loss_IC: 0.0004\n",
      "Iteration 18: Total Loss: 0.0005, Loss Res: 0.0001, Loss_BC: 0.0000, Loss_IC: 0.0004\n",
      "Iteration 18: Total Loss: 0.0005, Loss Res: 0.0001, Loss_BC: 0.0000, Loss_IC: 0.0004\n",
      "Iteration 18: Total Loss: 0.0005, Loss Res: 0.0001, Loss_BC: 0.0000, Loss_IC: 0.0004\n",
      "Iteration 18: Total Loss: 0.0005, Loss Res: 0.0001, Loss_BC: 0.0000, Loss_IC: 0.0004\n",
      "Iteration 18: Total Loss: 0.0005, Loss Res: 0.0001, Loss_BC: 0.0000, Loss_IC: 0.0004\n",
      "Iteration 18: Total Loss: 0.0005, Loss Res: 0.0001, Loss_BC: 0.0000, Loss_IC: 0.0004\n",
      "Iteration 18: Total Loss: 0.0005, Loss Res: 0.0001, Loss_BC: 0.0000, Loss_IC: 0.0004\n",
      "Iteration 18: Total Loss: 0.0005, Loss Res: 0.0001, Loss_BC: 0.0000, Loss_IC: 0.0004\n",
      "Iteration 18: Total Loss: 0.0005, Loss Res: 0.0001, Loss_BC: 0.0000, Loss_IC: 0.0004\n",
      "Iteration 18: Total Loss: 0.0005, Loss Res: 0.0001, Loss_BC: 0.0000, Loss_IC: 0.0004\n",
      "Iteration 18: Total Loss: 0.0005, Loss Res: 0.0001, Loss_BC: 0.0000, Loss_IC: 0.0004\n",
      "Iteration 18: Total Loss: 0.0005, Loss Res: 0.0001, Loss_BC: 0.0000, Loss_IC: 0.0004\n",
      "Iteration 18: Total Loss: 0.0005, Loss Res: 0.0001, Loss_BC: 0.0000, Loss_IC: 0.0004\n",
      "Iteration 18: Total Loss: 0.0005, Loss Res: 0.0001, Loss_BC: 0.0000, Loss_IC: 0.0004\n",
      "Iteration 18: Total Loss: 0.0005, Loss Res: 0.0001, Loss_BC: 0.0000, Loss_IC: 0.0004\n",
      "Iteration 18: Total Loss: 0.0005, Loss Res: 0.0001, Loss_BC: 0.0000, Loss_IC: 0.0004\n",
      "Iteration 18: Total Loss: 0.0005, Loss Res: 0.0001, Loss_BC: 0.0000, Loss_IC: 0.0004\n",
      "Iteration 18: Total Loss: 0.0005, Loss Res: 0.0001, Loss_BC: 0.0000, Loss_IC: 0.0004\n"
     ]
    },
    {
     "name": "stderr",
     "output_type": "stream",
     "text": [
      " 90%|█████████████████████████████████████████████████████████████████████████▊        | 18/20 [21:56<02:28, 74.41s/it]"
     ]
    },
    {
     "name": "stdout",
     "output_type": "stream",
     "text": [
      "Iteration 18: Total Loss: 0.0005, Loss Res: 0.0001, Loss_BC: 0.0000, Loss_IC: 0.0004\n",
      "Iteration 19: Total Loss: 0.0005, Loss Res: 0.0001, Loss_BC: 0.0000, Loss_IC: 0.0004\n",
      "Iteration 19: Total Loss: 0.0005, Loss Res: 0.0001, Loss_BC: 0.0000, Loss_IC: 0.0004\n",
      "Iteration 19: Total Loss: 0.0005, Loss Res: 0.0000, Loss_BC: 0.0000, Loss_IC: 0.0004\n",
      "Iteration 19: Total Loss: 0.0005, Loss Res: 0.0000, Loss_BC: 0.0000, Loss_IC: 0.0004\n",
      "Iteration 19: Total Loss: 0.0005, Loss Res: 0.0000, Loss_BC: 0.0000, Loss_IC: 0.0004\n",
      "Iteration 19: Total Loss: 0.0005, Loss Res: 0.0000, Loss_BC: 0.0000, Loss_IC: 0.0004\n",
      "Iteration 19: Total Loss: 0.0005, Loss Res: 0.0000, Loss_BC: 0.0000, Loss_IC: 0.0004\n",
      "Iteration 19: Total Loss: 0.0005, Loss Res: 0.0000, Loss_BC: 0.0000, Loss_IC: 0.0004\n",
      "Iteration 19: Total Loss: 0.0005, Loss Res: 0.0000, Loss_BC: 0.0000, Loss_IC: 0.0004\n",
      "Iteration 19: Total Loss: 0.0005, Loss Res: 0.0000, Loss_BC: 0.0000, Loss_IC: 0.0004\n",
      "Iteration 19: Total Loss: 0.0005, Loss Res: 0.0000, Loss_BC: 0.0000, Loss_IC: 0.0004\n",
      "Iteration 19: Total Loss: 0.0005, Loss Res: 0.0000, Loss_BC: 0.0000, Loss_IC: 0.0004\n",
      "Iteration 19: Total Loss: 0.0005, Loss Res: 0.0000, Loss_BC: 0.0000, Loss_IC: 0.0004\n",
      "Iteration 19: Total Loss: 0.0005, Loss Res: 0.0000, Loss_BC: 0.0000, Loss_IC: 0.0004\n",
      "Iteration 19: Total Loss: 0.0005, Loss Res: 0.0000, Loss_BC: 0.0000, Loss_IC: 0.0004\n",
      "Iteration 19: Total Loss: 0.0005, Loss Res: 0.0000, Loss_BC: 0.0000, Loss_IC: 0.0004\n",
      "Iteration 19: Total Loss: 0.0005, Loss Res: 0.0000, Loss_BC: 0.0000, Loss_IC: 0.0004\n",
      "Iteration 19: Total Loss: 0.0005, Loss Res: 0.0000, Loss_BC: 0.0000, Loss_IC: 0.0004\n",
      "Iteration 19: Total Loss: 0.0005, Loss Res: 0.0000, Loss_BC: 0.0000, Loss_IC: 0.0004\n",
      "Iteration 19: Total Loss: 0.0005, Loss Res: 0.0000, Loss_BC: 0.0000, Loss_IC: 0.0004\n"
     ]
    },
    {
     "name": "stderr",
     "output_type": "stream",
     "text": [
      " 95%|█████████████████████████████████████████████████████████████████████████████▉    | 19/20 [23:09<01:14, 74.09s/it]"
     ]
    },
    {
     "name": "stdout",
     "output_type": "stream",
     "text": [
      "Iteration 19: Total Loss: 0.0005, Loss Res: 0.0000, Loss_BC: 0.0000, Loss_IC: 0.0004\n",
      "Iteration 20: Total Loss: 0.0005, Loss Res: 0.0000, Loss_BC: 0.0000, Loss_IC: 0.0004\n",
      "Iteration 20: Total Loss: 0.0005, Loss Res: 0.0000, Loss_BC: 0.0000, Loss_IC: 0.0004\n",
      "Iteration 20: Total Loss: 0.0005, Loss Res: 0.0000, Loss_BC: 0.0000, Loss_IC: 0.0004\n",
      "Iteration 20: Total Loss: 0.0005, Loss Res: 0.0000, Loss_BC: 0.0000, Loss_IC: 0.0004\n",
      "Iteration 20: Total Loss: 0.0005, Loss Res: 0.0000, Loss_BC: 0.0000, Loss_IC: 0.0004\n",
      "Iteration 20: Total Loss: 0.0005, Loss Res: 0.0000, Loss_BC: 0.0000, Loss_IC: 0.0004\n",
      "Iteration 20: Total Loss: 0.0005, Loss Res: 0.0000, Loss_BC: 0.0000, Loss_IC: 0.0004\n",
      "Iteration 20: Total Loss: 0.0005, Loss Res: 0.0000, Loss_BC: 0.0000, Loss_IC: 0.0004\n",
      "Iteration 20: Total Loss: 0.0005, Loss Res: 0.0000, Loss_BC: 0.0000, Loss_IC: 0.0004\n",
      "Iteration 20: Total Loss: 0.0005, Loss Res: 0.0000, Loss_BC: 0.0000, Loss_IC: 0.0004\n",
      "Iteration 20: Total Loss: 0.0005, Loss Res: 0.0000, Loss_BC: 0.0000, Loss_IC: 0.0004\n",
      "Iteration 20: Total Loss: 0.0005, Loss Res: 0.0000, Loss_BC: 0.0000, Loss_IC: 0.0004\n",
      "Iteration 20: Total Loss: 0.0005, Loss Res: 0.0000, Loss_BC: 0.0000, Loss_IC: 0.0004\n",
      "Iteration 20: Total Loss: 0.0005, Loss Res: 0.0000, Loss_BC: 0.0000, Loss_IC: 0.0004\n",
      "Iteration 20: Total Loss: 0.0005, Loss Res: 0.0000, Loss_BC: 0.0000, Loss_IC: 0.0004\n",
      "Iteration 20: Total Loss: 0.0005, Loss Res: 0.0000, Loss_BC: 0.0000, Loss_IC: 0.0004\n",
      "Iteration 20: Total Loss: 0.0005, Loss Res: 0.0000, Loss_BC: 0.0000, Loss_IC: 0.0004\n",
      "Iteration 20: Total Loss: 0.0005, Loss Res: 0.0000, Loss_BC: 0.0000, Loss_IC: 0.0004\n",
      "Iteration 20: Total Loss: 0.0005, Loss Res: 0.0000, Loss_BC: 0.0000, Loss_IC: 0.0004\n",
      "Iteration 20: Total Loss: 0.0005, Loss Res: 0.0000, Loss_BC: 0.0000, Loss_IC: 0.0004\n"
     ]
    },
    {
     "name": "stderr",
     "output_type": "stream",
     "text": [
      "100%|██████████████████████████████████████████████████████████████████████████████████| 20/20 [24:22<00:00, 73.14s/it]"
     ]
    },
    {
     "name": "stdout",
     "output_type": "stream",
     "text": [
      "Iteration 20: Total Loss: 0.0005, Loss Res: 0.0000, Loss_BC: 0.0000, Loss_IC: 0.0004\n",
      "Final Losses - Loss Res: 0.000043, Loss_BC: 0.000007, Loss_IC: 0.000414\n",
      "Final Train Loss: 0.000464\n"
     ]
    },
    {
     "name": "stderr",
     "output_type": "stream",
     "text": [
      "\n"
     ]
    }
   ],
   "source": [
    "loss_track = []\n",
    "\n",
    "for i in tqdm(range(20)):\n",
    "    def closure():\n",
    "        pred_res, pred_rei = model_SIR(x_res, t_res)\n",
    "        preds_left, predi_left = model_SIR(x_left, t_left)\n",
    "        preds_right, predi_right = model_SIR(x_right, t_right)\n",
    "        preds_upper, predi_upper = model_SIR(x_upper, t_upper)\n",
    "        preds_lower, predi_lower = model_SIR(x_lower, t_lower)\n",
    "\n",
    "        S_x = torch.autograd.grad(pred_res, x_res, grad_outputs=torch.ones_like(pred_res), retain_graph=True, create_graph=True)[0]\n",
    "        S_xx = torch.autograd.grad(S_x, x_res, grad_outputs=torch.ones_like(S_x), create_graph=True)[0]\n",
    "        S_t = torch.autograd.grad(pred_res, t_res, grad_outputs=torch.ones_like(pred_res), retain_graph=True, create_graph=True)[0]\n",
    "\n",
    "        I_x = torch.autograd.grad(pred_rei, x_res, grad_outputs=torch.ones_like(pred_rei), retain_graph=True, create_graph=True)[0]\n",
    "        I_xx = torch.autograd.grad(I_x, x_res, grad_outputs=torch.ones_like(I_x), create_graph=True)[0]\n",
    "        I_t = torch.autograd.grad(pred_rei, t_res, grad_outputs=torch.ones_like(pred_rei), retain_graph=True, create_graph=True)[0]\n",
    "\n",
    "        def bc_loss_upper(x, t):\n",
    "            pred_res, pred_rei = model_SIR(x, t)\n",
    "            S_x = torch.autograd.grad(pred_res, x, grad_outputs=torch.ones_like(pred_res), create_graph=True)[0]\n",
    "            I_x = torch.autograd.grad(pred_rei, x, grad_outputs=torch.ones_like(pred_rei), create_graph=True)[0]\n",
    "            return S_x, I_x\n",
    "\n",
    "        def bc_loss_lower(x, t):\n",
    "            pred_res, pred_rei = model_SIR(x, t)\n",
    "            S_x = torch.autograd.grad(pred_res, x, grad_outputs=torch.ones_like(pred_res), create_graph=True)[0]\n",
    "            I_x = torch.autograd.grad(pred_rei, x, grad_outputs=torch.ones_like(pred_rei), create_graph=True)[0]\n",
    "            return S_x, I_x\n",
    "\n",
    "        pde1 = S_t - 0.001 * S_xx + 0.5 * pred_res * pred_rei - 0.1 + 0.1 * pred_res\n",
    "        pde2 = I_t - 0.001 * I_xx - 0.5 * pred_res * pred_rei + 0.5 * pred_rei + 0.1 * pred_rei\n",
    "\n",
    "        loss_res = torch.mean(pde1 ** 2) + torch.mean(pde2 ** 2)\n",
    "\n",
    "        loss_bcs_1, loss_bci_1 = bc_loss_upper(x_upper, t_upper)\n",
    "        loss_bcs_2, loss_bci_2 = bc_loss_lower(x_lower, t_lower)\n",
    "        loss_bcs_1 = torch.mean(loss_bcs_1[:,0] ** 2)\n",
    "        loss_bci_1 = torch.mean(loss_bci_1[:,0] ** 2)\n",
    "        loss_bcs_2 = torch.mean(loss_bcs_2[:,0] ** 2)\n",
    "        loss_bci_2 = torch.mean(loss_bci_2[:,0] ** 2)\n",
    "        loss_bc = loss_bcs_1 + loss_bci_1 + loss_bcs_2 + loss_bci_2\n",
    "\n",
    "        # loss_ic = torch.mean((preds_left[:,0]-S_Exact[:,0]) ** 2) + torch.mean((predi_left[:,0]-I_Exact[:,0]) ** 2)\n",
    "        x_coord = x_left[:, 0]  # 获取 x 坐标值\n",
    "        \n",
    "        # 创建分段条件掩码\n",
    "        mask_less = x_coord < 0.5          # 左半区条件 (0 ≤ x < 0.5)\n",
    "        mask_ge = x_coord >= 0.5           # 右半区条件 (0.5 ≤ x ≤ 1)\n",
    "        \n",
    "        # 计算理论值 (注意用 torch.where 保持张量设备一致)\n",
    "        true_ics = torch.where(\n",
    "            mask_less,\n",
    "            1.1 * x_coord,                # 左半区：1.1x\n",
    "            1.1 * (1 - x_coord)           # 右半区：1.1(1-x)\n",
    "        )\n",
    "\n",
    "        true_ici = torch.where(\n",
    "            mask_less,\n",
    "            0.5 * x_coord,                # 左半区：1.1x\n",
    "            0.5 * (1 - x_coord)           # 右半区：1.1(1-x)\n",
    "        )\n",
    "        \n",
    "        # 计算初始条件损失\n",
    "        loss_ic1 = torch.mean((preds_left[:, 0] - true_ics) ** 2)\n",
    "        loss_ic2 = torch.mean((predi_left[:, 0] - true_ici) ** 2)\n",
    "        loss_ic = loss_ic1 + loss_ic2\n",
    "        \n",
    "        # loss_ic = torch.mean((preds_left[:, 0]-S_Exact[0, :]) ** 2) + torch.mean((predi_left[:, 0]-I_Exact[0, :]) ** 2)\n",
    "\n",
    "        current_losses = [loss_res.item(), loss_bc.item(), loss_ic.item()]\n",
    "        loss_track.append(current_losses)\n",
    "\n",
    "        loss = loss_res + loss_bc + loss_ic\n",
    "        optim.zero_grad()\n",
    "        loss.backward()\n",
    "        \n",
    "        # Print losses for this iteration\n",
    "        print(f'Iteration {i+1}: Total Loss: {sum(current_losses):.4f}, Loss Res: {current_losses[0]:.4f}, Loss_BC: {current_losses[1]:.4f}, Loss_IC: {current_losses[2]:.4f}')\n",
    "        \n",
    "        return loss\n",
    "\n",
    "    optim.step(closure)\n",
    "\n",
    "# Final output remains the same\n",
    "print('Final Losses - Loss Res: {:4f}, Loss_BC: {:4f}, Loss_IC: {:4f}'.format(loss_track[-1][0], loss_track[-1][1], loss_track[-1][2]))\n",
    "print('Final Train Loss: {:4f}'.format(np.sum(loss_track[-1])))"
   ]
  },
  {
   "cell_type": "code",
   "execution_count": 13,
   "metadata": {},
   "outputs": [
    {
     "name": "stdout",
     "output_type": "stream",
     "text": [
      "torch.Size([256, 100])\n"
     ]
    }
   ],
   "source": [
    "data = scipy.io.loadmat('SIR_beta=0.5_alpha=0.5.mat')\n",
    "S_Exact = torch.tensor((data['u1'])).to(device)  ## 256时间，100空间\n",
    "I_Exact = torch.tensor((data['u2'])).to(device)\n",
    "print(S_Exact.shape)"
   ]
  },
  {
   "cell_type": "code",
   "execution_count": 14,
   "metadata": {
    "pycharm": {
     "name": "#%%\n"
    }
   },
   "outputs": [
    {
     "name": "stdout",
     "output_type": "stream",
     "text": [
      "relative L1 error: 0.264133\n",
      "relative L2 error: 0.168739\n"
     ]
    }
   ],
   "source": [
    "# Visualize PINNsformer\n",
    "res_test, _, _, _, _ = get_data([0,1], [0,30], 100, 256)\n",
    "\n",
    "res_test = make_time_sequence(res_test, num_step=3, step=1e-2) \n",
    "res_test = torch.tensor(res_test, dtype=torch.float32, requires_grad=True).to(device)\n",
    "x_test, t_test = res_test[:,:,0:1], res_test[:,:,1:2]\n",
    "\n",
    "with torch.no_grad():\n",
    "    pred_s, pred_i = model_SIR(x_test, t_test)\n",
    "    pred_s = pred_s[:,0:1].reshape(256,100)\n",
    "    pred_i = pred_i[:,0:1].reshape(256,100)\n",
    "    pred_s = pred_s.cpu().detach().numpy()\n",
    "    pred_i = pred_i.cpu().detach().numpy()\n",
    "\n",
    "\n",
    "mat = scipy.io.loadmat('SIR_beta=0.5_alpha=0.5.mat')\n",
    "I = mat['u2']\n",
    "S = mat['u1']\n",
    "\n",
    "rl1 = np.sum(np.abs(I-pred_i)) / np.sum(np.abs(I)) + np.sum(np.abs(S-pred_s)) / np.sum(np.abs(S))\n",
    "rl2 = np.sqrt(np.sum((S-pred_s)**2) / np.sum(S**2)) + np.sqrt(np.sum((I-pred_i)**2) / np.sum(I**2))\n",
    "\n",
    "print('relative L1 error: {:4f}'.format(rl1))\n",
    "print('relative L2 error: {:4f}'.format(rl2))"
   ]
  },
  {
   "cell_type": "code",
   "execution_count": 15,
   "metadata": {},
   "outputs": [],
   "source": [
    "t = mat['t'].flatten()[:, None]\n",
    "x = mat['x'].flatten()[:, None]\n",
    "X, T = np.meshgrid(x,t)"
   ]
  },
  {
   "cell_type": "code",
   "execution_count": 23,
   "metadata": {
    "collapsed": false,
    "jupyter": {
     "outputs_hidden": false
    },
    "pycharm": {
     "is_executing": true,
     "name": "#%%\n"
    }
   },
   "outputs": [
    {
     "data": {
      "image/png": "[encoded data removed]",
      "text/plain": [
       "<Figure size 400x300 with 2 Axes>"
      ]
     },
     "metadata": {},
     "output_type": "display_data"
    }
   ],
   "source": [
    "import matplotlib\n",
    "plt.figure(figsize=(4,3))\n",
    "norm = matplotlib.colors.Normalize(vmin=0, vmax=1.0)\n",
    "plt.pcolor(X, T, S, cmap='jet', norm=norm)\n",
    "\n",
    "# 添加坐标轴标签和标题\n",
    "plt.xlabel('x')\n",
    "plt.ylabel('t')\n",
    "\n",
    "# 添加颜色条\n",
    "plt.colorbar()\n",
    "\n",
    "# 调整布局\n",
    "plt.tight_layout()\n",
    "\n",
    "# 显示图像\n",
    "plt.show()"
   ]
  },
  {
   "cell_type": "code",
   "execution_count": 24,
   "metadata": {},
   "outputs": [
    {
     "data": {
      "image/png": "[encoded data removed]",
      "text/plain": [
       "<Figure size 400x300 with 2 Axes>"
      ]
     },
     "metadata": {},
     "output_type": "display_data"
    }
   ],
   "source": [
    "plt.figure(figsize=(4,3))\n",
    "norm = matplotlib.colors.Normalize(vmin=0, vmax=1.0)\n",
    "plt.pcolor(X, T, pred_s, cmap='jet', norm=norm)\n",
    "\n",
    "# 添加坐标轴标签和标题\n",
    "plt.xlabel('x')\n",
    "plt.ylabel('t')\n",
    "\n",
    "# 添加颜色条\n",
    "plt.colorbar()\n",
    "\n",
    "# 调整布局\n",
    "plt.tight_layout()\n",
    "\n",
    "# 显示图像\n",
    "plt.show()"
   ]
  },
  {
   "cell_type": "code",
   "execution_count": 26,
   "metadata": {},
   "outputs": [
    {
     "data": {
      "image/png": "[encoded data removed]",
      "text/plain": [
       "<Figure size 400x300 with 2 Axes>"
      ]
     },
     "metadata": {},
     "output_type": "display_data"
    }
   ],
   "source": [
    "plt.figure(figsize=(4,3))\n",
    "norm = matplotlib.colors.Normalize(vmin=0, vmax=0.1)\n",
    "plt.pcolor(X, T, abs(pred_s-S), cmap='jet', norm=norm)\n",
    "\n",
    "# 添加坐标轴标签和标题\n",
    "plt.xlabel('x')\n",
    "plt.ylabel('t')\n",
    "\n",
    "# 添加颜色条\n",
    "plt.colorbar()\n",
    "\n",
    "# 调整布局\n",
    "plt.tight_layout()\n",
    "\n",
    "# 显示图像\n",
    "plt.show()"
   ]
  },
  {
   "cell_type": "code",
   "execution_count": null,
   "metadata": {},
   "outputs": [],
   "source": []
  }
 ],
 "metadata": {
  "kernelspec": {
   "display_name": "Python 3 (ipykernel)",
   "language": "python",
   "name": "python3"
  },
  "language_info": {
   "codemirror_mode": {
    "name": "ipython",
    "version": 3
   },
   "file_extension": ".py",
   "mimetype": "text/x-python",
   "name": "python",
   "nbconvert_exporter": "python",
   "pygments_lexer": "ipython3",
   "version": "3.8.20"
  }
 },
 "nbformat": 4,
 "nbformat_minor": 4
}
